{
 "cells": [
  {
   "cell_type": "code",
   "execution_count": 352,
   "metadata": {},
   "outputs": [
    {
     "data": {
      "image/png": "[encoded data removed]",
      "text/plain": [
       "<IPython.core.display.Image object>"
      ]
     },
     "metadata": {},
     "output_type": "display_data"
    },
    {
     "data": {
      "image/png": "[encoded data removed]",
      "text/plain": [
       "<IPython.core.display.Image object>"
      ]
     },
     "metadata": {},
     "output_type": "display_data"
    },
    {
     "data": {
      "image/png": "[encoded data removed]",
      "text/plain": [
       "<IPython.core.display.Image object>"
      ]
     },
     "metadata": {},
     "output_type": "display_data"
    },
    {
     "data": {
      "image/png": "[encoded data removed]",
      "text/plain": [
       "<IPython.core.display.Image object>"
      ]
     },
     "metadata": {},
     "output_type": "display_data"
    },
    {
     "data": {
      "text/plain": [
       "['#EDE5CF', '#C1766F', '#541F3F']"
      ]
     },
     "execution_count": 352,
     "metadata": {},
     "output_type": "execute_result"
    }
   ],
   "source": [
    "#commut anal cancer\n",
    "\n",
    "from comut import comut\n",
    "from comut import fileparsers\n",
    "\n",
    "import numpy as np\n",
    "import pandas as pd\n",
    "\n",
    "from palettable.cartocolors.qualitative import Vivid_10\n",
    "from palettable.scientific.sequential import Nuuk_16\n",
    "from palettable.scientific.sequential import Oleron_4\n",
    "from palettable.scientific.sequential import Bamako_4\n",
    "from palettable.scientific.diverging import  Tofino_10\n",
    "\n",
    "from palettable.cartocolors.sequential import BrwnYl_3\n",
    "\n",
    "\n",
    "\n",
    "Nuuk_16.show_discrete_image()\n",
    "Nuuk_16.mpl_colors\n",
    "Nuuk_16.hex_colors\n",
    "Oleron_4.hex_colors\n",
    "Bamako_4.hex_colors\n",
    "Tofino_10.show_discrete_image()\n",
    "Tofino_10.hex_colors\n",
    "\n",
    "Vivid_10.mpl_colors ## show me colors i have loaded, see for examples; https://nbviewer.jupyter.org/github/jiffyclub/palettable/blob/master/demo/Palettable%20Demo.ipynb\n",
    "Vivid_10.show_discrete_image()\n",
    "Vivid_10.hex_colors## shpw me actial colors\n",
    "BrwnYl_3.show_discrete_image()\n",
    "BrwnYl_3.hex_colors## shpw me actial colors\n"
   ]
  },
  {
   "cell_type": "code",
   "execution_count": 353,
   "metadata": {},
   "outputs": [
    {
     "data": {
      "text/html": [
       "<div>\n",
       "<style scoped>\n",
       "    .dataframe tbody tr th:only-of-type {\n",
       "        vertical-align: middle;\n",
       "    }\n",
       "\n",
       "    .dataframe tbody tr th {\n",
       "        vertical-align: top;\n",
       "    }\n",
       "\n",
       "    .dataframe thead th {\n",
       "        text-align: right;\n",
       "    }\n",
       "</style>\n",
       "<table border=\"1\" class=\"dataframe\">\n",
       "  <thead>\n",
       "    <tr style=\"text-align: right;\">\n",
       "      <th></th>\n",
       "      <th>sample</th>\n",
       "      <th>Tumor_fraction</th>\n",
       "    </tr>\n",
       "  </thead>\n",
       "  <tbody>\n",
       "    <tr>\n",
       "      <th>1</th>\n",
       "      <td>RP-2258_BRP23734_v1_WGS_OnPrem</td>\n",
       "      <td>4.737</td>\n",
       "    </tr>\n",
       "    <tr>\n",
       "      <th>2</th>\n",
       "      <td>RP-2258_BRP23737_v1_WGS_OnPrem</td>\n",
       "      <td>5.525</td>\n",
       "    </tr>\n",
       "    <tr>\n",
       "      <th>3</th>\n",
       "      <td>RP-2258_BRP23739_v1_WGS_OnPrem</td>\n",
       "      <td>5.837</td>\n",
       "    </tr>\n",
       "    <tr>\n",
       "      <th>4</th>\n",
       "      <td>RP-2258_BRP23740_v1_WGS_OnPrem</td>\n",
       "      <td>5.945</td>\n",
       "    </tr>\n",
       "    <tr>\n",
       "      <th>5</th>\n",
       "      <td>RP-2258_BRP23743_v1_WGS_OnPrem</td>\n",
       "      <td>4.983</td>\n",
       "    </tr>\n",
       "    <tr>\n",
       "      <th>6</th>\n",
       "      <td>RP-2258_BRP23746_v1_WGS_OnPrem</td>\n",
       "      <td>4.296</td>\n",
       "    </tr>\n",
       "    <tr>\n",
       "      <th>7</th>\n",
       "      <td>RP-2258_BRP23747_v1_WGS_OnPrem</td>\n",
       "      <td>3.750</td>\n",
       "    </tr>\n",
       "    <tr>\n",
       "      <th>8</th>\n",
       "      <td>RP-2258_BRP23751_v1_WGS_OnPrem</td>\n",
       "      <td>4.529</td>\n",
       "    </tr>\n",
       "    <tr>\n",
       "      <th>9</th>\n",
       "      <td>RP-2258_BRP23844_v1_WGS_OnPrem</td>\n",
       "      <td>11.980</td>\n",
       "    </tr>\n",
       "    <tr>\n",
       "      <th>10</th>\n",
       "      <td>RP-2258_BRP23845_v1_WGS_OnPrem</td>\n",
       "      <td>3.529</td>\n",
       "    </tr>\n",
       "    <tr>\n",
       "      <th>11</th>\n",
       "      <td>RP-2258_BRP23846_v1_WGS_OnPrem</td>\n",
       "      <td>3.554</td>\n",
       "    </tr>\n",
       "    <tr>\n",
       "      <th>12</th>\n",
       "      <td>RP-2258_BRP23854_v1_WGS_OnPrem</td>\n",
       "      <td>12.670</td>\n",
       "    </tr>\n",
       "    <tr>\n",
       "      <th>13</th>\n",
       "      <td>RP-2258_BRP23863_v1_WGS_OnPrem</td>\n",
       "      <td>4.742</td>\n",
       "    </tr>\n",
       "    <tr>\n",
       "      <th>14</th>\n",
       "      <td>RP-2258_BRP23865_v1_WGS_OnPrem</td>\n",
       "      <td>4.133</td>\n",
       "    </tr>\n",
       "    <tr>\n",
       "      <th>15</th>\n",
       "      <td>RP-2258_BRP23872_v1_WGS_OnPrem</td>\n",
       "      <td>3.652</td>\n",
       "    </tr>\n",
       "    <tr>\n",
       "      <th>16</th>\n",
       "      <td>RP-2258_BRP23873_v1_WGS_OnPrem</td>\n",
       "      <td>4.197</td>\n",
       "    </tr>\n",
       "  </tbody>\n",
       "</table>\n",
       "</div>"
      ],
      "text/plain": [
       "                            sample  Tumor_fraction\n",
       "1   RP-2258_BRP23734_v1_WGS_OnPrem           4.737\n",
       "2   RP-2258_BRP23737_v1_WGS_OnPrem           5.525\n",
       "3   RP-2258_BRP23739_v1_WGS_OnPrem           5.837\n",
       "4   RP-2258_BRP23740_v1_WGS_OnPrem           5.945\n",
       "5   RP-2258_BRP23743_v1_WGS_OnPrem           4.983\n",
       "6   RP-2258_BRP23746_v1_WGS_OnPrem           4.296\n",
       "7   RP-2258_BRP23747_v1_WGS_OnPrem           3.750\n",
       "8   RP-2258_BRP23751_v1_WGS_OnPrem           4.529\n",
       "9   RP-2258_BRP23844_v1_WGS_OnPrem          11.980\n",
       "10  RP-2258_BRP23845_v1_WGS_OnPrem           3.529\n",
       "11  RP-2258_BRP23846_v1_WGS_OnPrem           3.554\n",
       "12  RP-2258_BRP23854_v1_WGS_OnPrem          12.670\n",
       "13  RP-2258_BRP23863_v1_WGS_OnPrem           4.742\n",
       "14  RP-2258_BRP23865_v1_WGS_OnPrem           4.133\n",
       "15  RP-2258_BRP23872_v1_WGS_OnPrem           3.652\n",
       "16  RP-2258_BRP23873_v1_WGS_OnPrem           4.197"
      ]
     },
     "execution_count": 353,
     "metadata": {},
     "output_type": "execute_result"
    }
   ],
   "source": [
    "##read all samples\n",
    "df_cna_anal = pd.read_csv('/Users/samuelahuno/Polak_lab10082019/analCancer/coMutPlot_ready_data_allSamples.anal.tsv',sep='\\t')\n",
    "df_cna_anal.head()\n",
    "\n",
    "df_age = pd.read_csv('/Users/samuelahuno/Polak_lab10082019/analCancer/data/comut.anal.Age.4pandas.tsv',sep='\\t')\n",
    "df_lesion = pd.read_csv('/Users/samuelahuno/Polak_lab10082019/analCancer/data/comut.anal.lesionGrade.4pandas.tsv',sep='\\t')\n",
    "df_fish = pd.read_csv('/Users/samuelahuno/Polak_lab10082019/analCancer/data/comut.anal.FISH.4pandas.tsv',sep='\\t')\n",
    "df_biopsy = pd.read_csv('/Users/samuelahuno/Polak_lab10082019/analCancer/data/comut.anal.Biopsy.4pandas.tsv',sep='\\t')\n",
    "df_gender = pd.read_csv('/Users/samuelahuno/Polak_lab10082019/analCancer/data/comut.anal.Gender.4pandas.tsv',sep='\\t')\n",
    "df_race = pd.read_csv('/Users/samuelahuno/Polak_lab10082019/analCancer/data/comut.anal.Race.4pandas.tsv',sep='\\t')\n",
    "df_tfx = pd.read_csv('/Users/samuelahuno/Polak_lab10082019/analCancer/data/comut.anal.Tfx.4pandas.tsv',sep='\\t')\n",
    "\n",
    "\n",
    "#df_clin_all = pd.read_csv('/Users/samuelahuno/Polak_lab10082019/analCancer/data/merged.ichorResults.PID.infor.4pandas.tsv', sep='\\t')\n",
    "#df_clin_all.head()\n",
    "df_lesion.head(100)\n",
    "df_age.head()\n",
    "df_tfx.head(20)\n",
    "#df_cna_anal.head(100)\n"
   ]
  },
  {
   "cell_type": "code",
   "execution_count": 354,
   "metadata": {},
   "outputs": [],
   "source": [
    "#df_lesion = df_clin_all[['sample','Lesion_Grade']]\n",
    "#df_lesion['category'] = 'Lesion_Grade'\n",
    "\n",
    "\n",
    "#df_lesion.head()"
   ]
  },
  {
   "cell_type": "code",
   "execution_count": 355,
   "metadata": {},
   "outputs": [],
   "source": [
    "#initialize comut\n",
    "toy_comut_anal = comut.CoMut()\n",
    "from palettable.colorbrewer.qualitative import Set1_9\n",
    "from palettable.cartocolors.qualitative import Vivid_10\n",
    "\n",
    "\n",
    "#add sample names\n",
    "toy_comut_anal.samples = ['RP-2258_BRP23739_v1_WGS_OnPrem',\n",
    "'RP-2258_BRP23740_v1_WGS_OnPrem',\n",
    "'RP-2258_BRP23743_v1_WGS_OnPrem',\n",
    "'RP-2258_BRP23844_v1_WGS_OnPrem',\n",
    "'RP-2258_BRP23846_v1_WGS_OnPrem',\n",
    "'RP-2258_BRP23737_v1_WGS_OnPrem',\n",
    "'RP-2258_BRP23845_v1_WGS_OnPrem',\n",
    "'RP-2258_BRP23854_v1_WGS_OnPrem',\n",
    "'RP-2258_BRP23734_v1_WGS_OnPrem',\n",
    "'RP-2258_BRP23746_v1_WGS_OnPrem',\n",
    "'RP-2258_BRP23747_v1_WGS_OnPrem',\n",
    "'RP-2258_BRP23751_v1_WGS_OnPrem',\n",
    "'RP-2258_BRP23863_v1_WGS_OnPrem',\n",
    "'RP-2258_BRP23865_v1_WGS_OnPrem',\n",
    "'RP-2258_BRP23872_v1_WGS_OnPrem']"
   ]
  },
  {
   "cell_type": "code",
   "execution_count": 356,
   "metadata": {},
   "outputs": [
    {
     "ename": "ValueError",
     "evalue": "Unknown samples {'RP-2258_BRP23873_v1_WGS_OnPrem'} given. All added samples must be a subset of either first samples added or samples specified with comut.samples",
     "output_type": "error",
     "traceback": [
      "\u001b[0;31m---------------------------------------------------------------------------\u001b[0m",
      "\u001b[0;31mValueError\u001b[0m                                Traceback (most recent call last)",
      "\u001b[0;32m<ipython-input-356-1538783ace8a>\u001b[0m in \u001b[0;36m<module>\u001b[0;34m\u001b[0m\n\u001b[1;32m      4\u001b[0m                'Absent': {'facecolor': 'grey', 'alpha': 0.2},'Amplification': 'deeppink'}\n\u001b[1;32m      5\u001b[0m \u001b[0;34m\u001b[0m\u001b[0m\n\u001b[0;32m----> 6\u001b[0;31m \u001b[0mtoy_comut_anal\u001b[0m\u001b[0;34m.\u001b[0m\u001b[0madd_categorical_data\u001b[0m\u001b[0;34m(\u001b[0m\u001b[0mdf_cna_anal\u001b[0m\u001b[0;34m,\u001b[0m \u001b[0mname\u001b[0m \u001b[0;34m=\u001b[0m \u001b[0;34m'Copy number alterations (CNAs)'\u001b[0m\u001b[0;34m,\u001b[0m\u001b[0mmapping\u001b[0m\u001b[0;34m=\u001b[0m\u001b[0mcna_mapping_anal\u001b[0m\u001b[0;34m)\u001b[0m\u001b[0;34m\u001b[0m\u001b[0;34m\u001b[0m\u001b[0m\n\u001b[0m\u001b[1;32m      7\u001b[0m \u001b[0mtoy_comut_anal\u001b[0m\u001b[0;34m.\u001b[0m\u001b[0madd_categorical_data\u001b[0m\u001b[0;34m(\u001b[0m\u001b[0mdf_lesion\u001b[0m\u001b[0;34m,\u001b[0m \u001b[0mname\u001b[0m \u001b[0;34m=\u001b[0m \u001b[0;34m'Lesion grade'\u001b[0m\u001b[0;34m,\u001b[0m\u001b[0mmapping\u001b[0m\u001b[0;34m=\u001b[0m \u001b[0;34m{\u001b[0m\u001b[0;34m'HSIL'\u001b[0m\u001b[0;34m:\u001b[0m\u001b[0;34m'brown'\u001b[0m\u001b[0;34m,\u001b[0m\u001b[0;34m'LSIL'\u001b[0m\u001b[0;34m:\u001b[0m\u001b[0;34m'#FFE599'\u001b[0m\u001b[0;34m}\u001b[0m\u001b[0;34m)\u001b[0m\u001b[0;34m\u001b[0m\u001b[0;34m\u001b[0m\u001b[0m\n\u001b[1;32m      8\u001b[0m toy_comut_anal.add_categorical_data(df_fish, name = 'FISH_3q',mapping={'3q': 'red', 'pending':{'facecolor':'grey', 'alpha':0.2},  'other':{'facecolor': 'purple', 'alpha': 0.5},\n",
      "\u001b[0;32m~/opt/anaconda3/lib/python3.7/site-packages/comut/comut.py\u001b[0m in \u001b[0;36madd_categorical_data\u001b[0;34m(self, data, name, category_order, value_order, mapping, borders, priority, tick_style)\u001b[0m\n\u001b[1;32m    335\u001b[0m             \u001b[0mself\u001b[0m\u001b[0;34m.\u001b[0m\u001b[0msamples\u001b[0m \u001b[0;34m=\u001b[0m \u001b[0msamples\u001b[0m\u001b[0;34m\u001b[0m\u001b[0;34m\u001b[0m\u001b[0m\n\u001b[1;32m    336\u001b[0m         \u001b[0;32melse\u001b[0m\u001b[0;34m:\u001b[0m\u001b[0;34m\u001b[0m\u001b[0;34m\u001b[0m\u001b[0m\n\u001b[0;32m--> 337\u001b[0;31m             \u001b[0mself\u001b[0m\u001b[0;34m.\u001b[0m\u001b[0m_check_samples\u001b[0m\u001b[0;34m(\u001b[0m\u001b[0msamples\u001b[0m\u001b[0;34m)\u001b[0m\u001b[0;34m\u001b[0m\u001b[0;34m\u001b[0m\u001b[0m\n\u001b[0m\u001b[1;32m    338\u001b[0m \u001b[0;34m\u001b[0m\u001b[0m\n\u001b[1;32m    339\u001b[0m         \u001b[0;31m# set defaults\u001b[0m\u001b[0;34m\u001b[0m\u001b[0;34m\u001b[0m\u001b[0;34m\u001b[0m\u001b[0m\n",
      "\u001b[0;32m~/opt/anaconda3/lib/python3.7/site-packages/comut/comut.py\u001b[0m in \u001b[0;36m_check_samples\u001b[0;34m(self, samples)\u001b[0m\n\u001b[1;32m    231\u001b[0m                              \u001b[0;34m' must be a subset of either first samples'\u001b[0m\u001b[0;34m\u001b[0m\u001b[0;34m\u001b[0m\u001b[0m\n\u001b[1;32m    232\u001b[0m                              \u001b[0;34m' added or samples specified with'\u001b[0m\u001b[0;34m\u001b[0m\u001b[0;34m\u001b[0m\u001b[0m\n\u001b[0;32m--> 233\u001b[0;31m                              ' comut.samples'.format(extra))\n\u001b[0m\u001b[1;32m    234\u001b[0m \u001b[0;34m\u001b[0m\u001b[0m\n\u001b[1;32m    235\u001b[0m     def add_categorical_data(self, data, name=None, category_order=None,\n",
      "\u001b[0;31mValueError\u001b[0m: Unknown samples {'RP-2258_BRP23873_v1_WGS_OnPrem'} given. All added samples must be a subset of either first samples added or samples specified with comut.samples"
     ]
    }
   ],
   "source": [
    "from palettable.colorbrewer.qualitative import Set1_9\n",
    "cna_mapping_anal = {'Gain':'pink', 'High amplification': 'red',\n",
    "               'Homodeletion':'green', 'Neutral': {'facecolor': 'grey', 'alpha': 0.2},\n",
    "               'Absent': {'facecolor': 'grey', 'alpha': 0.2},'Amplification': 'deeppink'}\n",
    "\n",
    "toy_comut_anal.add_categorical_data(df_cna_anal, name = 'Copy number alterations (CNAs)',mapping=cna_mapping_anal)\n",
    "toy_comut_anal.add_categorical_data(df_lesion, name = 'Lesion grade',mapping= {'HSIL':'brown','LSIL':'#FFE599'})\n",
    "toy_comut_anal.add_categorical_data(df_fish, name = 'FISH_3q',mapping={'3q': 'red', 'pending':{'facecolor':'grey', 'alpha':0.2},  'other':{'facecolor': 'purple', 'alpha': 0.5},\n",
    "               'normal':{'facecolor': 'green', 'alpha': 0.5}})\n",
    "\n",
    "toy_comut_anal.add_categorical_data(df_age, name = 'Age')\n",
    "toy_comut_anal.add_categorical_data(df_biopsy, name = 'Biopsy',mapping= {'AIN1':'#EDE5CF','AIN2':'#C1766F','AIN3':'#541F3F'})\n",
    "toy_comut_anal.add_categorical_data(df_gender, name = 'Gender')\n",
    "toy_comut_anal.add_categorical_data(df_race, name = 'Race')\n",
    "\n",
    "\n",
    "\n",
    "\n",
    "bar_kwargs = {'width': 0.9, 'edgecolor': 'black'}\n",
    "\n",
    "bar_kwargs_ulps = {'width': 0.9, 'edgecolor': '#2F8AC4'}\n",
    "bar_mapping = {'Tumor_fraction': '#2F8AC4'}\n",
    "\n",
    "\n",
    "toy_comut_anal.add_bar_data(df_tfx, name = 'Tumor fraction',stacked = False, bar_kwargs = bar_kwargs,mapping=bar_mapping,\n",
    "                       ylabel = 'Tumor fractions /%')"
   ]
  },
  {
   "cell_type": "code",
   "execution_count": 351,
   "metadata": {},
   "outputs": [
    {
     "data": {
      "text/plain": [
       "<matplotlib.legend.Legend at 0x7fbf734878d0>"
      ]
     },
     "execution_count": 351,
     "metadata": {},
     "output_type": "execute_result"
    },
    {
     "data": {
      "image/png": "[encoded data removed]",
      "text/plain": [
       "<Figure size 1512x1008 with 8 Axes>"
      ]
     },
     "metadata": {
      "needs_background": "light"
     },
     "output_type": "display_data"
    }
   ],
   "source": [
    "#heights = {'Tumor fraction 30x': 30, 'IHC': 7.5,'Age':2.5,'Grade':2.5,'Tumor size':2.5,'Tumor fraction ulps': 30,'Copy number alterations (CNAs)':34}\n",
    "\n",
    "\n",
    "#structure = [['Copy number alterations (CNAs)'],['Grade'],['Tumor size'],['Age'],['IHC'],['Tumor fraction ulps'],['Tumor fraction 30x']]\n",
    "\n",
    "\n",
    "\n",
    "toy_comut_anal.plot_comut(figsize = (21,14), x_padding = 0.07, y_padding = 0.05, tri_padding = 0.5, hspace = 0.1,wspace = 0.2)\n",
    "\n",
    "\n",
    "toy_comut_anal.axes['Tumor fraction'].axhline(1,alpha=0.9, color = 'black', linestyle = 'dotted', linewidth = 2)\n",
    "toy_comut_anal.axes['Tumor fraction'].axhline(3,alpha=0.9, color = 'black', linestyle = 'dotted', linewidth = 2)\n",
    "#toy_comut_anal.axes['ctDNA fraction'].annotate(s = '   ctDNA fraction = 1%', xy = (15, 0.7),fontsize='14')\n",
    "#toy_comut_anal.axes['ctDNA fraction'].annotate(s = '   ctDNA fraction = 3%', xy = (15, 2.5),fontsize='14')\n",
    "\n",
    "\n",
    "\n",
    "\n",
    "cna_order = ['Heterozygous deletion (CN=1)','Copy neutral (CN=2)','GAIN (CN=3)','Amplification (CN=4)','High Amplification (CN>4)']\n",
    "#toy_comut_anal.add_axis_legend('Copy number alterations (CNAs)',bbox_to_anchor = (1 ,0.895),frameon = False,\n",
    "#                                         title = 'Copy number alterations (CNAs)', order = cna_order,\n",
    "#                                   rename={'Homodeletion':'Heterozygous deletion (CN=1)', 'Neutral': 'Copy neutral (CN=2)','Gain':'GAIN (CN=3)','Amplification':'Amplification (CN=4)','High amplification': 'High Amplification (CN>4)'},\n",
    "#                                    fontsize='14',title_fontsize=\"14\")\n",
    "\n",
    "\n",
    "toy_comut_anal.add_unified_legend()\n"
   ]
  },
  {
   "cell_type": "code",
   "execution_count": 312,
   "metadata": {},
   "outputs": [],
   "source": [
    "toy_comut_anal.figure.savefig('/Users/samuelahuno/Polak_lab10082019/analCancer/test_cfDNA_cna_selected_Genes_preAnalCancer_v2_07212020comut.pdf', bbox_inches = 'tight', dpi = 5800,pad_inches=0.9)"
   ]
  },
  {
   "cell_type": "code",
   "execution_count": null,
   "metadata": {},
   "outputs": [],
   "source": []
  },
  {
   "cell_type": "code",
   "execution_count": null,
   "metadata": {},
   "outputs": [],
   "source": []
  },
  {
   "cell_type": "code",
   "execution_count": null,
   "metadata": {},
   "outputs": [],
   "source": []
  }
 ],
 "metadata": {
  "kernelspec": {
   "display_name": "Python 3",
   "language": "python",
   "name": "python3"
  },
  "language_info": {
   "codemirror_mode": {
    "name": "ipython",
    "version": 3
   },
   "file_extension": ".py",
   "mimetype": "text/x-python",
   "name": "python",
   "nbconvert_exporter": "python",
   "pygments_lexer": "ipython3",
   "version": "3.7.4"
  }
 },
 "nbformat": 4,
 "nbformat_minor": 4
}
